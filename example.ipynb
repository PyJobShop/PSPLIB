{
 "cells": [
  {
   "cell_type": "markdown",
   "id": "6df23cfb-cd15-4024-9810-ff240b1f2444",
   "metadata": {},
   "source": [
    "# Example notebook for the PSPLIB Python package"
   ]
  },
  {
   "cell_type": "markdown",
   "id": "b332249a-04e2-4d73-8c48-0b09d4276245",
   "metadata": {},
   "source": [
    "This notebook demonstrates how to use the PSPLIB Python package for parsing different project scheduling formats, highlighting the differences between the resulting output.\n",
    "All parsers return an instance of the [`ProjectInstance`](https://github.com/PyJobShop/PSPLIB/blob/main/psplib/ProjectInstance.py) class. \n"
   ]
  },
  {
   "cell_type": "code",
   "execution_count": 52,
   "id": "4fec4d5b-df0f-48c4-9e55-602203a89176",
   "metadata": {},
   "outputs": [],
   "source": [
    "from psplib import parse"
   ]
  },
  {
   "cell_type": "markdown",
   "id": "39f3899e-cb96-4c24-80d9-f436abfb9031",
   "metadata": {},
   "source": [
    "## PSPLIB format"
   ]
  },
  {
   "cell_type": "markdown",
   "id": "72f3c46b-b490-4a7c-bcd3-5e4342b98e17",
   "metadata": {},
   "source": [
    "PSPLIB is a standard format for resource-constrained project scheduling problems (RCPSPs)."
   ]
  },
  {
   "cell_type": "code",
   "execution_count": 53,
   "id": "0530bec2-580c-4845-a1f7-8f94d69a5f40",
   "metadata": {},
   "outputs": [],
   "source": [
    "instance = parse(\"data/j301_1.sm\", instance_format=\"psplib\")"
   ]
  },
  {
   "cell_type": "markdown",
   "id": "bb155e39-1a31-430c-8352-0206fd998be2",
   "metadata": {},
   "source": [
    "Get basic instance information: number of resources and activities"
   ]
  },
  {
   "cell_type": "code",
   "execution_count": 54,
   "id": "bfbca94a-720a-4873-b1b7-3c0a52d2a5b0",
   "metadata": {},
   "outputs": [
    {
     "data": {
      "text/plain": [
       "(4, 32)"
      ]
     },
     "execution_count": 54,
     "metadata": {},
     "output_type": "execute_result"
    }
   ],
   "source": [
    "(instance.num_resources, instance.num_activities)"
   ]
  },
  {
   "cell_type": "markdown",
   "id": "b9518b54-eb11-48b0-b410-15bb15094b39",
   "metadata": {},
   "source": [
    "Resource have a capacity and renewable status."
   ]
  },
  {
   "cell_type": "code",
   "execution_count": 55,
   "id": "e2f6acd6-f529-4833-b479-e00550584820",
   "metadata": {},
   "outputs": [
    {
     "data": {
      "text/plain": [
       "[Resource(capacity=12, renewable=True),\n",
       " Resource(capacity=13, renewable=True),\n",
       " Resource(capacity=4, renewable=True),\n",
       " Resource(capacity=12, renewable=True)]"
      ]
     },
     "execution_count": 55,
     "metadata": {},
     "output_type": "execute_result"
    }
   ],
   "source": [
    "instance.resources"
   ]
  },
  {
   "cell_type": "markdown",
   "id": "d8647312-9885-4b2d-8ea9-42bf39790b24",
   "metadata": {},
   "source": [
    "Activities have modes, successors and possible delays (for RCPSP/max)."
   ]
  },
  {
   "cell_type": "code",
   "execution_count": 56,
   "id": "8a1235ac-d44f-4d01-9081-dfb7778c2fc7",
   "metadata": {},
   "outputs": [
    {
     "data": {
      "text/plain": [
       "[Activity(modes=[Mode(duration=0, demands=[0, 0, 0, 0])], successors=[1, 2, 3], delays=None, name=''),\n",
       " Activity(modes=[Mode(duration=8, demands=[4, 0, 0, 0])], successors=[5, 10, 14], delays=None, name=''),\n",
       " Activity(modes=[Mode(duration=4, demands=[10, 0, 0, 0])], successors=[6, 7, 12], delays=None, name=''),\n",
       " Activity(modes=[Mode(duration=6, demands=[0, 0, 0, 3])], successors=[4, 8, 9], delays=None, name='')]"
      ]
     },
     "execution_count": 56,
     "metadata": {},
     "output_type": "execute_result"
    }
   ],
   "source": [
    "instance.activities[:4]"
   ]
  },
  {
   "cell_type": "markdown",
   "id": "80b80efb-188b-410f-9e58-044e949aee58",
   "metadata": {},
   "source": [
    "A mode is a single processing option for a given activity, which includes duration and demand per resource."
   ]
  },
  {
   "cell_type": "code",
   "execution_count": 57,
   "id": "33dec608-c15c-4b7b-894d-0a6f67d8dafc",
   "metadata": {},
   "outputs": [
    {
     "data": {
      "text/plain": [
       "[Mode(duration=0, demands=[0, 0, 0, 0])]"
      ]
     },
     "execution_count": 57,
     "metadata": {},
     "output_type": "execute_result"
    }
   ],
   "source": [
    "instance.activities[0].modes"
   ]
  },
  {
   "cell_type": "markdown",
   "id": "dc032dde-2e61-4fa7-a840-cd941cca1c15",
   "metadata": {},
   "source": [
    "## Patterson format"
   ]
  },
  {
   "cell_type": "markdown",
   "id": "7af1a6b0-08ca-4a15-9674-40ae98ca7644",
   "metadata": {},
   "source": [
    "The Patterson format is another format for RCPSP instances.\n",
    "The concent of the instance is identical to the ones from PSPLIB."
   ]
  },
  {
   "cell_type": "code",
   "execution_count": 58,
   "id": "7c44dee1-a7d8-4c5f-9d5c-9dc119bb597d",
   "metadata": {},
   "outputs": [],
   "source": [
    "instance = parse(\"data/RG300_1.rcp\", instance_format=\"patterson\")"
   ]
  },
  {
   "cell_type": "markdown",
   "id": "f260a7a1-99f6-48a9-b6d3-3af111b5297e",
   "metadata": {},
   "source": [
    "## RCPSP/max format"
   ]
  },
  {
   "cell_type": "markdown",
   "id": "3457807b-2e4a-404d-9ab3-6da5a70fa301",
   "metadata": {},
   "source": [
    "RCPSP/max instances introduce delays for each successor."
   ]
  },
  {
   "cell_type": "code",
   "execution_count": 60,
   "id": "2a0012ed-f019-4aaf-85b3-93241d380401",
   "metadata": {},
   "outputs": [],
   "source": [
    "instance = parse(\"data/UBO10_01.sch\", instance_format=\"rcpsp_max\")"
   ]
  },
  {
   "cell_type": "markdown",
   "id": "64fb639d-93dc-4c35-9ad1-e17fbd86f160",
   "metadata": {},
   "source": [
    "Note that the additional `delays` field is not empty, which specifies the time lag for each successor."
   ]
  },
  {
   "cell_type": "code",
   "execution_count": 61,
   "id": "6cdb8e24-587f-4b4b-b836-d808a3ecbe3e",
   "metadata": {},
   "outputs": [
    {
     "data": {
      "text/plain": [
       "[Activity(modes=[Mode(duration=0, demands=[0, 0, 0, 0, 0])], successors=[3, 2, 1, 8], delays=[0, 0, 0, 0], name=''),\n",
       " Activity(modes=[Mode(duration=2, demands=[5, 7, 8, 4, 6])], successors=[10], delays=[2], name=''),\n",
       " Activity(modes=[Mode(duration=9, demands=[10, 8, 0, 8, 10])], successors=[4, 11, 7], delays=[5, 9, 0], name=''),\n",
       " Activity(modes=[Mode(duration=6, demands=[9, 9, 0, 4, 5])], successors=[9], delays=[3], name='')]"
      ]
     },
     "execution_count": 61,
     "metadata": {},
     "output_type": "execute_result"
    }
   ],
   "source": [
    "instance.activities[:4]"
   ]
  },
  {
   "cell_type": "markdown",
   "id": "75604156-3c21-402d-a554-4aeeecd1a38b",
   "metadata": {},
   "source": [
    "## MPLIB format"
   ]
  },
  {
   "cell_type": "markdown",
   "id": "42d677c0-9e7e-421d-a843-aec7cd9e137b",
   "metadata": {},
   "source": [
    "Multi-project RCPSP handles multiple projects with shared resources."
   ]
  },
  {
   "cell_type": "code",
   "execution_count": 63,
   "id": "3280aeae-0bcd-4faa-8649-6a8b64db4e5e",
   "metadata": {},
   "outputs": [],
   "source": [
    "instance = parse(\"data/MPLIB1_Set1_0.rcmp\", instance_format=\"mplib\")"
   ]
  },
  {
   "cell_type": "code",
   "execution_count": 64,
   "id": "f3d65f88-1840-4665-abcb-3d1fd3ae46da",
   "metadata": {},
   "outputs": [
    {
     "data": {
      "text/plain": [
       "(4, 372, 6)"
      ]
     },
     "execution_count": 64,
     "metadata": {},
     "output_type": "execute_result"
    }
   ],
   "source": [
    "(instance.num_resources, instance.num_activities, instance.num_projects)"
   ]
  },
  {
   "cell_type": "markdown",
   "id": "39662193-2222-43e6-b2de-148f0ec3af9a",
   "metadata": {},
   "source": [
    "Each project contains a list of activity indices that belong to the project, and a common release date."
   ]
  },
  {
   "cell_type": "code",
   "execution_count": 68,
   "id": "67e3f2ad-8aed-47fe-9a43-cbe7159a585d",
   "metadata": {},
   "outputs": [
    {
     "data": {
      "text/plain": [
       "[Project(activities=[0, 1, 2, 3, 4, 5, 6, 7, 8, 9, 10, 11, 12, 13, 14, 15, 16, 17, 18, 19, 20, 21, 22, 23, 24, 25, 26, 27, 28, 29, 30, 31, 32, 33, 34, 35, 36, 37, 38, 39, 40, 41, 42, 43, 44, 45, 46, 47, 48, 49, 50, 51, 52, 53, 54, 55, 56, 57, 58, 59, 60, 61], release_date=0),\n",
       " Project(activities=[62, 63, 64, 65, 66, 67, 68, 69, 70, 71, 72, 73, 74, 75, 76, 77, 78, 79, 80, 81, 82, 83, 84, 85, 86, 87, 88, 89, 90, 91, 92, 93, 94, 95, 96, 97, 98, 99, 100, 101, 102, 103, 104, 105, 106, 107, 108, 109, 110, 111, 112, 113, 114, 115, 116, 117, 118, 119, 120, 121, 122, 123], release_date=0)]"
      ]
     },
     "execution_count": 68,
     "metadata": {},
     "output_type": "execute_result"
    }
   ],
   "source": [
    "instance.projects[:2]"
   ]
  }
 ],
 "metadata": {
  "kernelspec": {
   "display_name": "Python 3 (ipykernel)",
   "language": "python",
   "name": "python3"
  },
  "language_info": {
   "codemirror_mode": {
    "name": "ipython",
    "version": 3
   },
   "file_extension": ".py",
   "mimetype": "text/x-python",
   "name": "python",
   "nbconvert_exporter": "python",
   "pygments_lexer": "ipython3",
   "version": "3.10.10"
  }
 },
 "nbformat": 4,
 "nbformat_minor": 5
}
